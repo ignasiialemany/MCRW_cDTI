{
 "cells": [
  {
   "cell_type": "code",
   "execution_count": 4,
   "metadata": {},
   "outputs": [],
   "source": [
    "import pandas as pd\n",
    "import numpy as np\n",
    "import matplotlib.pyplot as plt"
   ]
  },
  {
   "cell_type": "code",
   "execution_count": 2,
   "metadata": {},
   "outputs": [
    {
     "data": {
      "text/html": [
       "<div>\n",
       "<style scoped>\n",
       "    .dataframe tbody tr th:only-of-type {\n",
       "        vertical-align: middle;\n",
       "    }\n",
       "\n",
       "    .dataframe tbody tr th {\n",
       "        vertical-align: top;\n",
       "    }\n",
       "\n",
       "    .dataframe thead th {\n",
       "        text-align: right;\n",
       "    }\n",
       "</style>\n",
       "<table border=\"1\" class=\"dataframe\">\n",
       "  <thead>\n",
       "    <tr style=\"text-align: right;\">\n",
       "      <th></th>\n",
       "      <th>positionX</th>\n",
       "      <th>positionY</th>\n",
       "      <th>positionZ</th>\n",
       "      <th>phaseX</th>\n",
       "      <th>phaseY</th>\n",
       "      <th>phaseZ</th>\n",
       "      <th>myocyte_index</th>\n",
       "      <th>flag</th>\n",
       "      <th>exchange_time</th>\n",
       "    </tr>\n",
       "  </thead>\n",
       "  <tbody>\n",
       "    <tr>\n",
       "      <th>0</th>\n",
       "      <td>8016.429239</td>\n",
       "      <td>2664.521189</td>\n",
       "      <td>220.641713</td>\n",
       "      <td>0.707807</td>\n",
       "      <td>0.172492</td>\n",
       "      <td>1.476847</td>\n",
       "      <td>478</td>\n",
       "      <td>0</td>\n",
       "      <td>0.0</td>\n",
       "    </tr>\n",
       "    <tr>\n",
       "      <th>1</th>\n",
       "      <td>8005.530240</td>\n",
       "      <td>605.700047</td>\n",
       "      <td>1149.884665</td>\n",
       "      <td>1.059794</td>\n",
       "      <td>0.210519</td>\n",
       "      <td>-0.894083</td>\n",
       "      <td>-1</td>\n",
       "      <td>0</td>\n",
       "      <td>0.0</td>\n",
       "    </tr>\n",
       "    <tr>\n",
       "      <th>2</th>\n",
       "      <td>3107.823095</td>\n",
       "      <td>1956.473887</td>\n",
       "      <td>2755.648009</td>\n",
       "      <td>-0.297096</td>\n",
       "      <td>-0.925051</td>\n",
       "      <td>-1.201917</td>\n",
       "      <td>-1</td>\n",
       "      <td>0</td>\n",
       "      <td>0.0</td>\n",
       "    </tr>\n",
       "    <tr>\n",
       "      <th>3</th>\n",
       "      <td>6809.028882</td>\n",
       "      <td>851.114376</td>\n",
       "      <td>1446.906327</td>\n",
       "      <td>0.251273</td>\n",
       "      <td>-0.009241</td>\n",
       "      <td>0.465903</td>\n",
       "      <td>779</td>\n",
       "      <td>0</td>\n",
       "      <td>0.0</td>\n",
       "    </tr>\n",
       "    <tr>\n",
       "      <th>4</th>\n",
       "      <td>3529.567302</td>\n",
       "      <td>601.495543</td>\n",
       "      <td>1509.291747</td>\n",
       "      <td>0.199211</td>\n",
       "      <td>-0.054571</td>\n",
       "      <td>-0.083920</td>\n",
       "      <td>112</td>\n",
       "      <td>0</td>\n",
       "      <td>0.0</td>\n",
       "    </tr>\n",
       "  </tbody>\n",
       "</table>\n",
       "</div>"
      ],
      "text/plain": [
       "     positionX    positionY    positionZ    phaseX    phaseY    phaseZ  \\\n",
       "0  8016.429239  2664.521189   220.641713  0.707807  0.172492  1.476847   \n",
       "1  8005.530240   605.700047  1149.884665  1.059794  0.210519 -0.894083   \n",
       "2  3107.823095  1956.473887  2755.648009 -0.297096 -0.925051 -1.201917   \n",
       "3  6809.028882   851.114376  1446.906327  0.251273 -0.009241  0.465903   \n",
       "4  3529.567302   601.495543  1509.291747  0.199211 -0.054571 -0.083920   \n",
       "\n",
       "    myocyte_index   flag   exchange_time  \n",
       "0             478      0             0.0  \n",
       "1              -1      0             0.0  \n",
       "2              -1      0             0.0  \n",
       "3             779      0             0.0  \n",
       "4             112      0             0.0  "
      ]
     },
     "execution_count": 2,
     "metadata": {},
     "output_type": "execute_result"
    }
   ],
   "source": [
    "df_final = pd.read_csv(\"seed_1_test_simulation_final.csv\")\n",
    "df_init = pd.read_csv(\"seed_1_test_simulation_init.csv\")\n",
    "df_final.head()"
   ]
  },
  {
   "cell_type": "code",
   "execution_count": 3,
   "metadata": {},
   "outputs": [],
   "source": [
    "def get_positions(df):\n",
    "    positions = df.iloc[:,:3]\n",
    "    positions = positions.to_numpy()\n",
    "    return positions\n",
    "\n",
    "positions_init = get_positions(df_init)\n",
    "positions_final = get_positions(df_final)"
   ]
  },
  {
   "cell_type": "code",
   "execution_count": 24,
   "metadata": {},
   "outputs": [
    {
     "data": {
      "image/png": "[encoded data removed]",
      "text/plain": [
       "<Figure size 640x480 with 1 Axes>"
      ]
     },
     "metadata": {},
     "output_type": "display_data"
    }
   ],
   "source": [
    "displacements = positions_final - positions_init\n",
    "plt.hist(displacements[:,0], bins=np.arange(-100,100,1),density=True,label=\"displacement x\",alpha=0.5)\n",
    "plt.hist(displacements[:,1], bins=np.arange(-100,100,1),density=True,label=\"displacement y\",alpha=0.5)\n",
    "plt.hist(displacements[:,2], bins=np.arange(-100,100,1),density=True,label=\"displacement z\",alpha=0.5)\n",
    "plt.legend()\n",
    "plt.show()"
   ]
  },
  {
   "cell_type": "code",
   "execution_count": 37,
   "metadata": {},
   "outputs": [
    {
     "name": "stdout",
     "output_type": "stream",
     "text": [
      "Percentage of valid phases:  99.85000000000001 %\n",
      "Flags:  [0 2]\n",
      "Phases:  (9985, 3)\n"
     ]
    }
   ],
   "source": [
    "def get_phases(df):\n",
    "    phases = df.iloc[:,3:6]\n",
    "    flag = df.iloc[:,7]\n",
    "    phases = phases.to_numpy()\n",
    "    flag = flag.to_numpy()\n",
    "    valid_phases = np.where(flag == 0)[0]\n",
    "    phases = phases[valid_phases]\n",
    "    print(\"Percentage of valid phases: \",len(phases)/len(flag)*100,\"%\")\n",
    "    return phases, flag\n",
    "\n",
    "phases, flag = get_phases(df_final)\n",
    "print(\"Flags: \",np.unique(flag))\n",
    "print(\"Phases: \",phases.shape)"
   ]
  },
  {
   "cell_type": "code",
   "execution_count": 38,
   "metadata": {},
   "outputs": [
    {
     "name": "stdout",
     "output_type": "stream",
     "text": [
      "[[ 0.27508895 -0.00757527  0.14417806]\n",
      " [-0.00757527  0.19870824 -0.00287201]\n",
      " [ 0.14417806 -0.00287201  0.9520589 ]]\n"
     ]
    }
   ],
   "source": [
    "from scripts.tensor_fitting import process_phase, get_parameters\n",
    "#The bvalue is given by the sequence of the simulation\n",
    "bvalue = 0.3\n",
    "tensor = process_phase(phases, bvalue)\n",
    "print(tensor)"
   ]
  },
  {
   "cell_type": "code",
   "execution_count": 42,
   "metadata": {},
   "outputs": [
    {
     "name": "stdout",
     "output_type": "stream",
     "text": [
      "FA:  0.7375404670002413\n",
      "lambda_mean:  0.47528536276207817\n",
      "lambda1:  0.9815100737294042\n",
      "lambda2:  0.24663955116024752\n",
      "lambda3:  0.1977064633965829\n",
      "eigenvectors:  [[ 0.20002785 -0.96979421  0.1395996 ]\n",
      " [-0.00553038  0.14135928  0.98994291]\n",
      " [ 0.9797746   0.19878819 -0.02291247]]\n"
     ]
    }
   ],
   "source": [
    "params = get_parameters(tensor, bvalue)\n",
    "[FA, lambda_mean, lambda1, lambda2, lambda3, eigenvectors, eigenvectors_sorted] = params\n",
    "print(\"FA: \",FA)\n",
    "print(\"lambda_mean: \",lambda_mean)\n",
    "print(\"lambda1: \",lambda1)\n",
    "print(\"lambda2: \",lambda2)\n",
    "print(\"lambda3: \",lambda3)\n",
    "print(\"eigenvectors: \",eigenvectors)"
   ]
  }
 ],
 "metadata": {
  "kernelspec": {
   "display_name": "pytorch_venv",
   "language": "python",
   "name": "python3"
  },
  "language_info": {
   "codemirror_mode": {
    "name": "ipython",
    "version": 3
   },
   "file_extension": ".py",
   "mimetype": "text/x-python",
   "name": "python",
   "nbconvert_exporter": "python",
   "pygments_lexer": "ipython3",
   "version": "3.10.13"
  }
 },
 "nbformat": 4,
 "nbformat_minor": 2
}
